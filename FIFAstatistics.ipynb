{
 "cells": [
  {
   "cell_type": "code",
   "execution_count": 1,
   "metadata": {},
   "outputs": [],
   "source": [
    "# describe things you have done: \n",
    "#e.g. load all data by pandas - Zhennong "
   ]
  },
  {
   "cell_type": "code",
   "execution_count": null,
   "metadata": {},
   "outputs": [],
   "source": []
  },
  {
   "cell_type": "code",
   "execution_count": null,
   "metadata": {},
   "outputs": [],
   "source": [
    "# --- Dec.7 updata ---\n",
    "# --- Zhennong ---\n",
    "# Env: python 3.7\n",
    "\n",
    "# Done:\n",
    "# clean the data\n",
    "\n",
    "# TODO:\n",
    "# Plot the distribution of overall score, fit a Gaussian onto that\n",
    "# plot the correlation between overall score and each attribute\n"
   ]
  },
  {
   "cell_type": "code",
   "execution_count": 4,
   "metadata": {},
   "outputs": [],
   "source": [
    "# --- Dec.7 updata ---\n",
    "# --- yifan ---\n",
    "# Env: python 3.7\n",
    "\n",
    "# Done:\n",
    "# extract features that we need from raw dataset\n",
    "# transform 'Value' into real number\n",
    "# transform 'Preferred positions' into single one target position\n",
    "# predict overall score using linear regression\n",
    "# classify position using logistic regression\n",
    "\n",
    "# TODO:\n",
    "# result of linear coefficient looks weird, e.g. 'Positioning' has negative effect ?\n",
    "# we should rule out data points of GK"
   ]
  },
  {
   "cell_type": "code",
   "execution_count": 216,
   "metadata": {},
   "outputs": [],
   "source": [
    "#import all the necessary packages:\n",
    "import pandas as pd\n",
    "import statistics\n",
    "import numpy as np\n",
    "import math\n",
    "import csv\n",
    "import matplotlib.pyplot as plt\n",
    "import seaborn as sns\n",
    "from sklearn.model_selection import train_test_split\n",
    "from sklearn.linear_model import LinearRegression\n",
    "from sklearn.linear_model import LogisticRegression"
   ]
  },
  {
   "cell_type": "markdown",
   "metadata": {},
   "source": [
    "# Clean the data"
   ]
  },
  {
   "cell_type": "code",
   "execution_count": 1,
   "metadata": {
    "scrolled": true
   },
   "outputs": [
    {
     "ename": "NameError",
     "evalue": "name 'pd' is not defined",
     "output_type": "error",
     "traceback": [
      "\u001b[0;31m---------------------------------------------------------------------------\u001b[0m",
      "\u001b[0;31mNameError\u001b[0m                                 Traceback (most recent call last)",
      "\u001b[0;32m<ipython-input-1-cc4b294660ed>\u001b[0m in \u001b[0;36m<module>\u001b[0;34m()\u001b[0m\n\u001b[1;32m      1\u001b[0m \u001b[0;31m#load the data, use first column as the index of the dataframe\u001b[0m\u001b[0;34m\u001b[0m\u001b[0;34m\u001b[0m\u001b[0m\n\u001b[0;32m----> 2\u001b[0;31m \u001b[0mfifa\u001b[0m\u001b[0;34m=\u001b[0m\u001b[0mpd\u001b[0m\u001b[0;34m.\u001b[0m\u001b[0mread_csv\u001b[0m\u001b[0;34m(\u001b[0m\u001b[0;34m\"data/CompleteDataset.csv\"\u001b[0m\u001b[0;34m,\u001b[0m\u001b[0mindex_col\u001b[0m\u001b[0;34m=\u001b[0m\u001b[0;36m0\u001b[0m\u001b[0;34m)\u001b[0m\u001b[0;34m\u001b[0m\u001b[0m\n\u001b[0m",
      "\u001b[0;31mNameError\u001b[0m: name 'pd' is not defined"
     ]
    }
   ],
   "source": [
    "#load the data, use first column as the index of the dataframe\n",
    "df=pd.read_csv(\"data/CompleteDataset.csv\",index_col=0)"
   ]
  },
  {
   "cell_type": "code",
   "execution_count": 8,
   "metadata": {},
   "outputs": [
    {
     "name": "stdout",
     "output_type": "stream",
     "text": [
      "unique values, column 66\n",
      "\n",
      " [82. 84. 79. 80. nan 78. 81. 87. 71. 74. 86. 75. 60. 76. 85. 73. 69. 77.\n",
      " 83. 72. 63. 67. 55. 65. 70. 56. 68. 62. 57. 66. 64. 61. 58. 54. 59. 53.\n",
      " 50. 46. 51. 49. 47. 45. 52. 43. 48. 42. 44. 40. 41. 39. 38. 37. 35. 36.\n",
      " 34. 32. 33. 31. 30.]\n"
     ]
    }
   ],
   "source": [
    "#clean data: data including calculations should be cleaned to be just one number.\n",
    "print(\"unique values, column 66\\n\\n\", df.iloc[:,66].unique())\n",
    "\n",
    "#function for cleaning:\n",
    "def clean(x):\n",
    "    # evaluate sum\n",
    "    if('+' in str(x).strip()):\n",
    "        cal = x.split('+')\n",
    "        return int(cal[0]) + int(cal[1])\n",
    "    # evaluate subtraction\n",
    "    elif('-' in str(x).strip()):\n",
    "        cal = x.split('-')\n",
    "        return int(cal[0]) + int(cal[1])\n",
    "    # convert to all float points to integer \n",
    "    elif str(x).strip().isdigit():\n",
    "        return int(x)\n",
    "    # return as 0 if null values or NaN values\n",
    "    elif pd.isnull(x):\n",
    "         return 0\n",
    "    # return other type (e.g. object) as the way it is.\n",
    "    else: \n",
    "        return x\n",
    "for column in df.iloc[:,11:74]:\n",
    "    df[column] = df[column].apply(clean)\n",
    "for column in df.iloc[:,5:7]:\n",
    "    df[column] = df[column].apply(clean)\n",
    "# save the modfied dataframe\n",
    "df.to_csv(\"data/CompleteDataset_clean.csv\")"
   ]
  },
  {
   "cell_type": "markdown",
   "metadata": {},
   "source": [
    "## Data Preprocessing - convert values and register targeted position"
   ]
  },
  {
   "cell_type": "code",
   "execution_count": 195,
   "metadata": {},
   "outputs": [],
   "source": [
    "# FIFA18 dataset\n",
    "# https://www.kaggle.com/thec03u5/fifa-18-demo-player-dataset\n",
    "# yfzhou\n",
    "# Nov, 2018\n"
   ]
  },
  {
   "cell_type": "code",
   "execution_count": 196,
   "metadata": {},
   "outputs": [
    {
     "name": "stdout",
     "output_type": "stream",
     "text": [
      "Index(['Unnamed: 0', 'Name', 'Age', 'Photo', 'Nationality', 'Flag', 'Overall',\n",
      "       'Potential', 'Club', 'Club Logo', 'Value', 'Wage', 'Special',\n",
      "       'Acceleration', 'Aggression', 'Agility', 'Balance', 'Ball control',\n",
      "       'Composure', 'Crossing', 'Curve', 'Dribbling', 'Finishing',\n",
      "       'Free kick accuracy', 'GK diving', 'GK handling', 'GK kicking',\n",
      "       'GK positioning', 'GK reflexes', 'Heading accuracy', 'Interceptions',\n",
      "       'Jumping', 'Long passing', 'Long shots', 'Marking', 'Penalties',\n",
      "       'Positioning', 'Reactions', 'Short passing', 'Shot power',\n",
      "       'Sliding tackle', 'Sprint speed', 'Stamina', 'Standing tackle',\n",
      "       'Strength', 'Vision', 'Volleys', 'CAM', 'CB', 'CDM', 'CF', 'CM', 'ID',\n",
      "       'LAM', 'LB', 'LCB', 'LCM', 'LDM', 'LF', 'LM', 'LS', 'LW', 'LWB',\n",
      "       'Preferred Positions', 'RAM', 'RB', 'RCB', 'RCM', 'RDM', 'RF', 'RM',\n",
      "       'RS', 'RW', 'RWB', 'ST'],\n",
      "      dtype='object')\n"
     ]
    }
   ],
   "source": [
    "# read data and show some examples\n",
    "\n",
    "filename = \"data/CompleteDataset_clean.csv\"\n",
    "\n",
    "df = pd.read_csv(filename)\n",
    "print(df.columns)\n",
    "# df.head(5)"
   ]
  },
  {
   "cell_type": "code",
   "execution_count": 197,
   "metadata": {},
   "outputs": [
    {
     "name": "stdout",
     "output_type": "stream",
     "text": [
      "Index(['Acceleration', 'Aggression', 'Agility', 'Balance', 'Ball control',\n",
      "       'Composure', 'Crossing', 'Curve', 'Dribbling', 'Finishing',\n",
      "       'Free kick accuracy', 'Heading accuracy', 'Interceptions', 'Jumping',\n",
      "       'Long passing', 'Long shots', 'Marking', 'Penalties', 'Positioning',\n",
      "       'Reactions', 'Short passing', 'Shot power', 'Sliding tackle',\n",
      "       'Sprint speed', 'Stamina', 'Standing tackle', 'Strength', 'Vision',\n",
      "       'Volleys', 'Overall', 'Value', 'Preferred Positions'],\n",
      "      dtype='object')\n"
     ]
    }
   ],
   "source": [
    "# choose some of features we need\n",
    "\n",
    "columns_needed = ['Acceleration', 'Aggression', 'Agility', 'Balance', 'Ball control',\n",
    "       'Composure', 'Crossing', 'Curve', 'Dribbling', 'Finishing',\n",
    "       'Free kick accuracy', 'Heading accuracy', 'Interceptions',\n",
    "       'Jumping', 'Long passing', 'Long shots', 'Marking', 'Penalties',\n",
    "       'Positioning', 'Reactions', 'Short passing', 'Shot power',\n",
    "       'Sliding tackle', 'Sprint speed', 'Stamina', 'Standing tackle',\n",
    "       'Strength', 'Vision', 'Volleys', 'Overall', 'Value', 'Preferred Positions']\n",
    "\n",
    "df = df[columns_needed]\n",
    "print(df.columns)"
   ]
  },
  {
   "cell_type": "code",
   "execution_count": 198,
   "metadata": {},
   "outputs": [],
   "source": [
    "# the data under 'Value' need to be converted into int/float\n",
    "\n",
    "# convert K to M\n",
    "df['Unit'] = df['Value'].str[-1]\n",
    "df['Value (M)'] = np.where(df['Unit'] == '0', 0, df['Value'].str[1:-1].replace(r'[a-zA-Z]',''))\n",
    "df['Value (M)'] = df['Value (M)'].astype(float)\n",
    "df['Value (M)'] = np.where(df['Unit'] == 'M', df['Value (M)'], df['Value (M)']/1000)\n",
    "df = df.drop('Unit', 1)\n",
    "df = df.drop('Value', 1)"
   ]
  },
  {
   "cell_type": "code",
   "execution_count": 199,
   "metadata": {},
   "outputs": [
    {
     "name": "stdout",
     "output_type": "stream",
     "text": [
      "Index(['Acceleration', 'Aggression', 'Agility', 'Balance', 'Ball control',\n",
      "       'Composure', 'Crossing', 'Curve', 'Dribbling', 'Finishing',\n",
      "       'Free kick accuracy', 'Heading accuracy', 'Interceptions', 'Jumping',\n",
      "       'Long passing', 'Long shots', 'Marking', 'Penalties', 'Positioning',\n",
      "       'Reactions', 'Short passing', 'Shot power', 'Sliding tackle',\n",
      "       'Sprint speed', 'Stamina', 'Standing tackle', 'Strength', 'Vision',\n",
      "       'Volleys', 'Overall', 'Value (M)', 'Target Position'],\n",
      "      dtype='object')\n"
     ]
    }
   ],
   "source": [
    "# data under 'Preferred Positions' has multiple positions, the first one is selected as target\n",
    "\n",
    "df['Target Position'] = df['Preferred Positions'].str.split().str[0]\n",
    "df = df.drop('Preferred Positions', 1)\n",
    "print(df.columns)"
   ]
  },
  {
   "cell_type": "code",
   "execution_count": 200,
   "metadata": {},
   "outputs": [],
   "source": [
    "# transform target position into number representation\n",
    "# e.g. there are four categories: GK, Forward, Midfield, Backfield\n",
    "# feel free to play with the mapping relation\n",
    "\n",
    "mapping = {'CF': 0,'ST': 0, 'RW': 0, 'LW': 0, 'RM': 1, 'CM': 1, 'LM': 1, 'CAM': 1, 'CDM': 1, 'CB': 2, 'LB': 2, 'RB': 2, 'RWB': 2, 'LWB': 2, 'GK': 3}\n",
    "df = df.replace({'Target Position': mapping})\n"
   ]
  },
  {
   "cell_type": "code",
   "execution_count": 201,
   "metadata": {},
   "outputs": [
    {
     "data": {
      "text/plain": [
       "False"
      ]
     },
     "execution_count": 201,
     "metadata": {},
     "output_type": "execute_result"
    }
   ],
   "source": [
    "df.isnull().values.any()"
   ]
  },
  {
   "cell_type": "markdown",
   "metadata": {},
   "source": [
    "## Plot the distribution of Overall scores"
   ]
  },
  {
   "cell_type": "code",
   "execution_count": 202,
   "metadata": {},
   "outputs": [
    {
     "name": "stdout",
     "output_type": "stream",
     "text": [
      "count    17981.000000\n",
      "mean        66.247984\n",
      "std          6.987965\n",
      "min         46.000000\n",
      "25%         62.000000\n",
      "50%         66.000000\n",
      "75%         71.000000\n",
      "max         94.000000\n",
      "Name: Overall, dtype: float64\n"
     ]
    }
   ],
   "source": [
    "#simple statistics for overall scores\n",
    "overall=df.iloc[:,29]\n",
    "print(overall.describe())"
   ]
  },
  {
   "cell_type": "code",
   "execution_count": 235,
   "metadata": {},
   "outputs": [
    {
     "data": {
      "image/png": "[encoded data removed]",
      "text/plain": [
       "<Figure size 432x288 with 1 Axes>"
      ]
     },
     "metadata": {},
     "output_type": "display_data"
    }
   ],
   "source": [
    "x=np.linspace(0,100,101)\n",
    "y=np.array([0]*101)\n",
    "for i in range(0,len(overall)):\n",
    "      y[overall[i]]+=1\n",
    "\n",
    "plt.bar(x,y,width=0.35,label='overall scores')\n",
    "plt.ylabel('Counts',fontsize=12)\n",
    "plt.xlabel('Overall scores',fontsize=12);\n",
    "plt.xticks(np.arange(0,101,10))\n",
    "plt.savefig('overall score distribution.pdf',bbox_inches = 'tight')"
   ]
  },
  {
   "cell_type": "code",
   "execution_count": 233,
   "metadata": {},
   "outputs": [
    {
     "data": {
      "image/png": "[encoded data removed]",
      "text/plain": [
       "<Figure size 432x288 with 1 Axes>"
      ]
     },
     "metadata": {},
     "output_type": "display_data"
    }
   ],
   "source": [
    "#turn the counts to probability\n",
    "#fit a Gaussian function onto the plot to show the distribution can be approximated as a normal distribution.\n",
    "summation=overall.value_counts().sum()\n",
    "y_prob=np.zeros(101)\n",
    "for i in range(0,len(y)):\n",
    "    y_prob[i] =y[i]*1.0/summation\n",
    "mean=66.247984\n",
    "variance=6.987965**2\n",
    "x=np.linspace(0.0,100.0,101)\n",
    "y_gaus=np.zeros(101)\n",
    "for i in range(0,len(y)):\n",
    "    y_gaus[i]=1/(math.sqrt(2*math.pi*variance))*np.exp(-((i-mean)**2)/(2*variance))\n",
    "\n",
    "\n",
    "plt.bar(x,y_prob,width=0.35,label='overall scores')\n",
    "plt.plot(x,y_gaus,'r',label='gaussian fit')\n",
    "plt.legend()\n",
    "plt.ylabel('probablity',fontsize=12)\n",
    "plt.xlabel('Overall scores',fontsize=12);\n",
    "plt.xticks(np.arange(0,101,10))\n",
    "plt.savefig('overall score distribution gaussian fitted.pdf',bbox_inches = 'tight')"
   ]
  },
  {
   "cell_type": "markdown",
   "metadata": {},
   "source": [
    "## Correlation between attributes and overall scores"
   ]
  },
  {
   "cell_type": "code",
   "execution_count": 254,
   "metadata": {},
   "outputs": [
    {
     "data": {
      "image/png": "[encoded data removed]",
      "text/plain": [
       "<Figure size 432x288 with 1 Axes>"
      ]
     },
     "metadata": {},
     "output_type": "display_data"
    }
   ],
   "source": [
    "attributes=np.concatenate([np.array([29]),np.arange(0,29)])\n",
    "df_performance=df.iloc[:,attributes]\n",
    "corr=df_performance.corr()\n",
    "overall_corr=corr.iloc[0,:].sort_values(ascending=False)\n",
    "overall_corr.plot.bar(fontsize=12)\n",
    "plt.ylabel(\"correlation\",fontsize=12)\n",
    "plt.xlabel(\"attributes\",fontsize=12)\n",
    "##fig,ax=plt.subplots(figsize=(10,8))\n",
    "##sns.heatmap(corr,linewidths=.5,ax=ax)\n",
    "plt.savefig('correlation of attributes.pdf',bbox_inches = 'tight')"
   ]
  },
  {
   "cell_type": "markdown",
   "metadata": {},
   "source": [
    "## Predict Overall -- linear regression"
   ]
  },
  {
   "cell_type": "code",
   "execution_count": 16,
   "metadata": {},
   "outputs": [
    {
     "name": "stdout",
     "output_type": "stream",
     "text": [
      "X train shape: (16182, 29)\n",
      "X test shape: (1799, 29)\n",
      "y train shape: (16182,)\n",
      "y test shape: (1799,)\n"
     ]
    }
   ],
   "source": [
    "X_train, X_test, y_train, y_test = train_test_split(df.iloc[:,:-3], df.iloc[:,-3], test_size=0.1, random_state=0)\n",
    "\n",
    "print('X train shape: {}'.format(X_train.shape))\n",
    "print('X test shape: {}'.format(X_test.shape))\n",
    "print('y train shape: {}'.format(y_train.shape))\n",
    "print('y test shape: {}'.format(y_test.shape))"
   ]
  },
  {
   "cell_type": "code",
   "execution_count": 17,
   "metadata": {},
   "outputs": [
    {
     "name": "stdout",
     "output_type": "stream",
     "text": [
      "Linear Regression R^2 coef: 0.7700273879214501\n"
     ]
    }
   ],
   "source": [
    "clf = LinearRegression().fit(X_train, y_train)\n",
    "acc = clf.score(X_test, y_test)\n",
    "print ('Linear Regression R^2 coef: {}'.format(acc))"
   ]
  },
  {
   "cell_type": "code",
   "execution_count": 18,
   "metadata": {},
   "outputs": [
    {
     "data": {
      "text/plain": [
       "[('Positioning', -0.08729696809215812),\n",
       " ('Balance', -0.051142527638434944),\n",
       " ('Dribbling', -0.033535661161879615),\n",
       " ('Sliding tackle', -0.02543833812905039),\n",
       " ('Heading accuracy', -0.022801064786869912),\n",
       " ('Stamina', -0.018578880002225226),\n",
       " ('Penalties', -0.016703326515214913),\n",
       " ('Aggression', -0.01134510083193199),\n",
       " ('Agility', -0.002246995612553776),\n",
       " ('Standing tackle', -0.0019288500669527892),\n",
       " ('Free kick accuracy', -0.0017008719598030993),\n",
       " ('Volleys', -0.0016078850046753201),\n",
       " ('Long shots', -0.0006441727819336877),\n",
       " ('Marking', -0.0003143225995172301),\n",
       " ('Interceptions', 0.0026801620035121375),\n",
       " ('Long passing', 0.008573303435955264),\n",
       " ('Curve', 0.009068322711823675),\n",
       " ('Shot power', 0.009810992600231685),\n",
       " ('Finishing', 0.010752007407930466),\n",
       " ('Acceleration', 0.017230757274359555),\n",
       " ('Sprint speed', 0.03005699867511938),\n",
       " ('Crossing', 0.031012417321654773),\n",
       " ('Jumping', 0.03725527572093278),\n",
       " ('Vision', 0.03829656644653301),\n",
       " ('Short passing', 0.04159958257420677),\n",
       " ('Strength', 0.06624314222754851),\n",
       " ('Ball control', 0.06857163291770287),\n",
       " ('Composure', 0.10070997666906735),\n",
       " ('Reactions', 0.4976124208480736)]"
      ]
     },
     "execution_count": 18,
     "metadata": {},
     "output_type": "execute_result"
    }
   ],
   "source": [
    "feature_result = [(X_train.columns[i], clf.coef_[i]) for i in range(len(clf.coef_))]\n",
    "feature_result_sort = sorted(feature_result, key = lambda x : x[1])\n",
    "feature_result_sort\n",
    "\n",
    "# it looks weird, for example, positioning have negative effect on overall\n",
    "# maybe reason is that position for GK is pretty low"
   ]
  },
  {
   "cell_type": "markdown",
   "metadata": {},
   "source": [
    "## Classify position -- logistic regression"
   ]
  },
  {
   "cell_type": "code",
   "execution_count": 19,
   "metadata": {},
   "outputs": [
    {
     "name": "stdout",
     "output_type": "stream",
     "text": [
      "X train shape: (16182, 29)\n",
      "X test shape: (1799, 29)\n",
      "y train shape: (16182,)\n",
      "y test shape: (1799,)\n"
     ]
    }
   ],
   "source": [
    "X_train, X_test, y_train, y_test = train_test_split(df.iloc[:,:-3], df.iloc[:,-1], test_size=0.1, random_state=0)\n",
    "\n",
    "print('X train shape: {}'.format(X_train.shape))\n",
    "print('X test shape: {}'.format(X_test.shape))\n",
    "print('y train shape: {}'.format(y_train.shape))\n",
    "print('y test shape: {}'.format(y_test.shape))"
   ]
  },
  {
   "cell_type": "code",
   "execution_count": 20,
   "metadata": {},
   "outputs": [
    {
     "name": "stdout",
     "output_type": "stream",
     "text": [
      "Logistic Regression accuracy: 0.8160088938299055\n"
     ]
    }
   ],
   "source": [
    "clf = LogisticRegression().fit(X_train, y_train)\n",
    "acc = clf.score(X_test, y_test)\n",
    "print ('Logistic Regression accuracy: {}'.format(acc))"
   ]
  },
  {
   "cell_type": "code",
   "execution_count": null,
   "metadata": {},
   "outputs": [],
   "source": []
  }
 ],
 "metadata": {
  "kernelspec": {
   "display_name": "Python 3",
   "language": "python",
   "name": "python3"
  },
  "language_info": {
   "codemirror_mode": {
    "name": "ipython",
    "version": 3
   },
   "file_extension": ".py",
   "mimetype": "text/x-python",
   "name": "python",
   "nbconvert_exporter": "python",
   "pygments_lexer": "ipython3",
   "version": "3.6.5"
  }
 },
 "nbformat": 4,
 "nbformat_minor": 2
}
