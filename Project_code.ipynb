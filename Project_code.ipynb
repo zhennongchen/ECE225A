{
 "cells": [
  {
   "cell_type": "code",
   "execution_count": null,
   "metadata": {},
   "outputs": [],
   "source": [
    "# describe things you have done: \n",
    "#e.g. load all data by pandas - Zhennong "
   ]
  },
  {
   "cell_type": "code",
   "execution_count": null,
   "metadata": {},
   "outputs": [],
   "source": []
  },
  {
   "cell_type": "code",
   "execution_count": null,
   "metadata": {},
   "outputs": [],
   "source": [
    "#我们plan里写的financial state就不做太多了吧。 主要还是focus on overall score的计算方式吧。\n",
    "#Things zhennong plans to do:\n",
    "# -overall score的分布 （0-10，10-20，20-30，30-40...）\n",
    "# -overall score与每一项attribute之间的 correlation。\n",
    "# -在原来表格里 completedataset 里面添加一个column 命名为 best_position（4个选择：前场，中场，后场，守门）\n",
    "#（现在有一列叫preferred position但里面assign了>1个position， notgood）"
   ]
  },
  {
   "cell_type": "code",
   "execution_count": null,
   "metadata": {},
   "outputs": [],
   "source": [
    "#problem!!:how to statistics to find top 10 important attributes for each position?\n",
    "# To find top 10 attributes for forward:\n",
    "# for each attribute X:\n",
    "    #calculate EXforward, EXmidfield,EXback,EXgoalkeeper\n",
    "    #calculate Delta(X) = (EXforward-EXmidfield)+(EXforward-EXback)\n",
    "    #list top 10 Delta, corresponds to top 10 X."
   ]
  }
 ],
 "metadata": {
  "kernelspec": {
   "display_name": "Python 3",
   "language": "python",
   "name": "python3"
  },
  "language_info": {
   "codemirror_mode": {
    "name": "ipython",
    "version": 3
   },
   "file_extension": ".py",
   "mimetype": "text/x-python",
   "name": "python",
   "nbconvert_exporter": "python",
   "pygments_lexer": "ipython3",
   "version": "3.6.5"
  }
 },
 "nbformat": 4,
 "nbformat_minor": 2
}
