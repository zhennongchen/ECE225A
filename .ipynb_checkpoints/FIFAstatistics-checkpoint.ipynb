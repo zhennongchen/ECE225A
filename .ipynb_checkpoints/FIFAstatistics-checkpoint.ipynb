{
 "cells": [
  {
   "cell_type": "code",
   "execution_count": 273,
   "metadata": {},
   "outputs": [],
   "source": [
    "# Import all the necessary packages:\n",
    "import pandas as pd\n",
    "import statistics\n",
    "import numpy as np\n",
    "import math\n",
    "import csv\n",
    "import matplotlib.pyplot as plt\n",
    "import seaborn as sns\n",
    "from sklearn.model_selection import train_test_split\n",
    "from sklearn.linear_model import LinearRegression\n",
    "from sklearn.linear_model import LogisticRegression"
   ]
  },
  {
   "cell_type": "markdown",
   "metadata": {},
   "source": [
    "## Part 1: Data processing"
   ]
  },
  {
   "cell_type": "code",
   "execution_count": 259,
   "metadata": {
    "scrolled": true
   },
   "outputs": [
    {
     "name": "stderr",
     "output_type": "stream",
     "text": [
      "/anaconda3/lib/python3.6/site-packages/IPython/core/interactiveshell.py:2785: DtypeWarning: Columns (23,35) have mixed types. Specify dtype option on import or set low_memory=False.\n",
      "  interactivity=interactivity, compiler=compiler, result=result)\n"
     ]
    }
   ],
   "source": [
    "# Load the data, use first column as the index of the dataframe\n",
    "df=pd.read_csv(\"data/CompleteDataset.csv\",index_col=0)"
   ]
  },
  {
   "cell_type": "code",
   "execution_count": 260,
   "metadata": {},
   "outputs": [],
   "source": [
    "# Clean data: \n",
    "# Conversion of calculations to its integer results easier for further processing. \n",
    "# Filling of null space by 0.\n",
    "# Conversion of float numbers to integers\n",
    "\n",
    "#Function for cleaning:\n",
    "def clean(x):\n",
    "    # evaluate sum\n",
    "    if('+' in str(x).strip()):\n",
    "        cal = x.split('+')\n",
    "        return int(cal[0]) + int(cal[1])\n",
    "    # evaluate subtraction\n",
    "    elif('-' in str(x).strip()):\n",
    "        cal = x.split('-')\n",
    "        return int(cal[0]) + int(cal[1])\n",
    "    # convert to all float points to integer \n",
    "    elif str(x).strip().isdigit():\n",
    "        return int(x)\n",
    "    # return as 0 if null values or NaN values\n",
    "    elif pd.isnull(x):\n",
    "         return 0\n",
    "    # return other type (e.g. object) as the way it is.\n",
    "    else: \n",
    "        return x\n",
    "# Clean the columns of interest \n",
    "for column in df.iloc[:,11:74]:\n",
    "    df[column] = df[column].apply(clean)\n",
    "for column in df.iloc[:,5:7]:\n",
    "    df[column] = df[column].apply(clean)\n",
    "# Save the modfied dataframe\n",
    "df.to_csv(\"data/CompleteDataset_clean.csv\")"
   ]
  },
  {
   "cell_type": "code",
   "execution_count": 267,
   "metadata": {},
   "outputs": [],
   "source": [
    "# Read data from cleaned dataset\n",
    "filename = \"data/CompleteDataset_clean.csv\"\n",
    "df = pd.read_csv(filename)"
   ]
  },
  {
   "cell_type": "code",
   "execution_count": 268,
   "metadata": {},
   "outputs": [],
   "source": [
    "# Extract columns of interest:player performance attributes\n",
    "# (Overall, Finishing, Dribbling, etc.) and player preferred \n",
    "# subdivided positions (CF, CM, CB, etc.). \n",
    "\n",
    "columns_needed = ['Acceleration', 'Aggression', 'Agility', 'Balance', 'Ball control',\n",
    "       'Composure', 'Crossing', 'Curve', 'Dribbling', 'Finishing',\n",
    "       'Free kick accuracy', 'Heading accuracy', 'Interceptions',\n",
    "       'Jumping', 'Long passing', 'Long shots', 'Marking', 'Penalties',\n",
    "       'Positioning', 'Reactions', 'Short passing', 'Shot power',\n",
    "       'Sliding tackle', 'Sprint speed', 'Stamina', 'Standing tackle',\n",
    "       'Strength', 'Vision', 'Volleys', 'Overall', 'Value', 'Preferred Positions']\n",
    "df = df[columns_needed]"
   ]
  },
  {
   "cell_type": "code",
   "execution_count": 269,
   "metadata": {},
   "outputs": [
    {
     "data": {
      "text/plain": [
       "False"
      ]
     },
     "execution_count": 269,
     "metadata": {},
     "output_type": "execute_result"
    }
   ],
   "source": [
    "# Assign a preferred postion to each player:\n",
    "# Each playerat has multiple subdivided under'Preferred Positions' , the first one is selected as target.\n",
    "\n",
    "df['Target Position'] = df['Preferred Positions'].str.split().str[0]\n",
    "df = df.drop('Preferred Positions', 1)\n",
    "# Transform target position into number representation in which\n",
    "# 0 to 3 represents four categories of positions: \n",
    "# Forward(0), Midfield(1), Defender(2) and Goalkeeper(3).\n",
    "\n",
    "mapping = {'CF': 0,'ST': 0, 'RW': 0, 'LW': 0, 'RM': 1, 'CM': 1, 'LM': 1, 'CAM': 1, 'CDM': 1, 'CB': 2, 'LB': 2, 'RB': 2, 'RWB': 2, 'LWB': 2, 'GK': 3}\n",
    "df = df.replace({'Target Position': mapping})\n",
    "df.isnull().values.any()"
   ]
  },
  {
   "cell_type": "markdown",
   "metadata": {},
   "source": [
    "## Part 2: Distribution of Overall scores"
   ]
  },
  {
   "cell_type": "code",
   "execution_count": 270,
   "metadata": {},
   "outputs": [
    {
     "name": "stdout",
     "output_type": "stream",
     "text": [
      "count    17981.000000\n",
      "mean        66.247984\n",
      "std          6.987965\n",
      "min         46.000000\n",
      "25%         62.000000\n",
      "50%         66.000000\n",
      "75%         71.000000\n",
      "max         94.000000\n",
      "Name: Overall, dtype: float64\n"
     ]
    }
   ],
   "source": [
    "#simple statistics for overall scores\n",
    "overall=df.iloc[:,29]\n",
    "print(overall.describe())"
   ]
  },
  {
   "cell_type": "code",
   "execution_count": 271,
   "metadata": {},
   "outputs": [
    {
     "data": {
      "image/png": "[encoded data removed]",
      "text/plain": [
       "<Figure size 432x288 with 1 Axes>"
      ]
     },
     "metadata": {},
     "output_type": "display_data"
    }
   ],
   "source": [
    "# Plot the overall distribution\n",
    "# Fit a Gaussian function onto the plot to show the distribution can be approximated as a normal distribution.\n",
    "x=np.linspace(0,100,101)\n",
    "y=np.array([0]*101)\n",
    "for i in range(0,len(overall)):\n",
    "      y[overall[i]]+=1\n",
    "summation=overall.value_counts().sum()\n",
    "y_prob=np.zeros(101)\n",
    "for i in range(0,len(y)):\n",
    "    y_prob[i] =y[i]*1.0/summation\n",
    "\n",
    "mean=66.25\n",
    "variance=49\n",
    "x=np.linspace(0.0,100.0,101)\n",
    "y_gaus=np.zeros(101)\n",
    "for i in range(0,len(y)):\n",
    "    y_gaus[i]=1/(math.sqrt(2*math.pi*variance))*np.exp(-((i-mean)**2)/(2*variance))\n",
    "\n",
    "\n",
    "plt.bar(x,y_prob,width=0.35,label='overall scores')\n",
    "plt.plot(x,y_gaus,'r',label='gaussian fit')\n",
    "plt.legend()\n",
    "plt.ylabel('probablity',fontsize=12)\n",
    "plt.xlabel('Overall scores',fontsize=12);\n",
    "plt.xticks(np.arange(0,101,10))\n",
    "plt.savefig('overall score distribution gaussian fitted.pdf',bbox_inches = 'tight')"
   ]
  },
  {
   "cell_type": "markdown",
   "metadata": {},
   "source": [
    "## Part 3: Correlation between Overall scores and attributes"
   ]
  },
  {
   "cell_type": "code",
   "execution_count": 272,
   "metadata": {},
   "outputs": [
    {
     "data": {
      "image/png": "[encoded data removed]",
      "text/plain": [
       "<Figure size 432x288 with 1 Axes>"
      ]
     },
     "metadata": {},
     "output_type": "display_data"
    }
   ],
   "source": [
    "attributes=np.concatenate([np.array([29]),np.arange(0,29)])\n",
    "df_performance=df.iloc[:,attributes]\n",
    "corr=df_performance.corr()\n",
    "overall_corr=corr.iloc[0,:].sort_values(ascending=False)\n",
    "overall_corr.plot.bar(fontsize=12)\n",
    "plt.ylabel(\"correlation\",fontsize=12)\n",
    "plt.xlabel(\"attributes\",fontsize=12)\n",
    "plt.savefig('correlation of attributes.pdf',bbox_inches = 'tight')"
   ]
  },
  {
   "cell_type": "markdown",
   "metadata": {},
   "source": [
    "## Predict Overall -- linear regression"
   ]
  },
  {
   "cell_type": "code",
   "execution_count": 16,
   "metadata": {},
   "outputs": [
    {
     "name": "stdout",
     "output_type": "stream",
     "text": [
      "X train shape: (16182, 29)\n",
      "X test shape: (1799, 29)\n",
      "y train shape: (16182,)\n",
      "y test shape: (1799,)\n"
     ]
    }
   ],
   "source": [
    "X_train, X_test, y_train, y_test = train_test_split(df.iloc[:,:-3], df.iloc[:,-3], test_size=0.1, random_state=0)\n",
    "\n",
    "print('X train shape: {}'.format(X_train.shape))\n",
    "print('X test shape: {}'.format(X_test.shape))\n",
    "print('y train shape: {}'.format(y_train.shape))\n",
    "print('y test shape: {}'.format(y_test.shape))"
   ]
  },
  {
   "cell_type": "code",
   "execution_count": 17,
   "metadata": {},
   "outputs": [
    {
     "name": "stdout",
     "output_type": "stream",
     "text": [
      "Linear Regression R^2 coef: 0.7700273879214501\n"
     ]
    }
   ],
   "source": [
    "clf = LinearRegression().fit(X_train, y_train)\n",
    "acc = clf.score(X_test, y_test)\n",
    "print ('Linear Regression R^2 coef: {}'.format(acc))"
   ]
  },
  {
   "cell_type": "code",
   "execution_count": 18,
   "metadata": {},
   "outputs": [
    {
     "data": {
      "text/plain": [
       "[('Positioning', -0.08729696809215812),\n",
       " ('Balance', -0.051142527638434944),\n",
       " ('Dribbling', -0.033535661161879615),\n",
       " ('Sliding tackle', -0.02543833812905039),\n",
       " ('Heading accuracy', -0.022801064786869912),\n",
       " ('Stamina', -0.018578880002225226),\n",
       " ('Penalties', -0.016703326515214913),\n",
       " ('Aggression', -0.01134510083193199),\n",
       " ('Agility', -0.002246995612553776),\n",
       " ('Standing tackle', -0.0019288500669527892),\n",
       " ('Free kick accuracy', -0.0017008719598030993),\n",
       " ('Volleys', -0.0016078850046753201),\n",
       " ('Long shots', -0.0006441727819336877),\n",
       " ('Marking', -0.0003143225995172301),\n",
       " ('Interceptions', 0.0026801620035121375),\n",
       " ('Long passing', 0.008573303435955264),\n",
       " ('Curve', 0.009068322711823675),\n",
       " ('Shot power', 0.009810992600231685),\n",
       " ('Finishing', 0.010752007407930466),\n",
       " ('Acceleration', 0.017230757274359555),\n",
       " ('Sprint speed', 0.03005699867511938),\n",
       " ('Crossing', 0.031012417321654773),\n",
       " ('Jumping', 0.03725527572093278),\n",
       " ('Vision', 0.03829656644653301),\n",
       " ('Short passing', 0.04159958257420677),\n",
       " ('Strength', 0.06624314222754851),\n",
       " ('Ball control', 0.06857163291770287),\n",
       " ('Composure', 0.10070997666906735),\n",
       " ('Reactions', 0.4976124208480736)]"
      ]
     },
     "execution_count": 18,
     "metadata": {},
     "output_type": "execute_result"
    }
   ],
   "source": [
    "feature_result = [(X_train.columns[i], clf.coef_[i]) for i in range(len(clf.coef_))]\n",
    "feature_result_sort = sorted(feature_result, key = lambda x : x[1])\n",
    "feature_result_sort\n",
    "\n",
    "# it looks weird, for example, positioning have negative effect on overall\n",
    "# maybe reason is that position for GK is pretty low"
   ]
  },
  {
   "cell_type": "markdown",
   "metadata": {},
   "source": [
    "## Classify position -- logistic regression"
   ]
  },
  {
   "cell_type": "code",
   "execution_count": 19,
   "metadata": {},
   "outputs": [
    {
     "name": "stdout",
     "output_type": "stream",
     "text": [
      "X train shape: (16182, 29)\n",
      "X test shape: (1799, 29)\n",
      "y train shape: (16182,)\n",
      "y test shape: (1799,)\n"
     ]
    }
   ],
   "source": [
    "X_train, X_test, y_train, y_test = train_test_split(df.iloc[:,:-3], df.iloc[:,-1], test_size=0.1, random_state=0)\n",
    "\n",
    "print('X train shape: {}'.format(X_train.shape))\n",
    "print('X test shape: {}'.format(X_test.shape))\n",
    "print('y train shape: {}'.format(y_train.shape))\n",
    "print('y test shape: {}'.format(y_test.shape))"
   ]
  },
  {
   "cell_type": "code",
   "execution_count": 20,
   "metadata": {},
   "outputs": [
    {
     "name": "stdout",
     "output_type": "stream",
     "text": [
      "Logistic Regression accuracy: 0.8160088938299055\n"
     ]
    }
   ],
   "source": [
    "clf = LogisticRegression().fit(X_train, y_train)\n",
    "acc = clf.score(X_test, y_test)\n",
    "print ('Logistic Regression accuracy: {}'.format(acc))"
   ]
  },
  {
   "cell_type": "code",
   "execution_count": null,
   "metadata": {},
   "outputs": [],
   "source": []
  }
 ],
 "metadata": {
  "kernelspec": {
   "display_name": "Python 3",
   "language": "python",
   "name": "python3"
  },
  "language_info": {
   "codemirror_mode": {
    "name": "ipython",
    "version": 3
   },
   "file_extension": ".py",
   "mimetype": "text/x-python",
   "name": "python",
   "nbconvert_exporter": "python",
   "pygments_lexer": "ipython3",
   "version": "3.6.5"
  }
 },
 "nbformat": 4,
 "nbformat_minor": 2
}
