{
 "cells": [
  {
   "cell_type": "code",
   "execution_count": null,
   "metadata": {},
   "outputs": [],
   "source": [
    "# describe things you have done: \n",
    "#e.g. load all data by pandas - Zhennong "
   ]
  },
  {
   "cell_type": "code",
   "execution_count": null,
   "metadata": {},
   "outputs": [],
   "source": []
  },
  {
   "cell_type": "code",
   "execution_count": null,
   "metadata": {},
   "outputs": [],
   "source": [
    "# 我们可以用topic 12 lecture notebook里的regression来做最简单的prediction？\n",
    "# 在topic 12 lecture notebook里下载 然后解压缩 第三个文件polynomial regression里有写 用polynomials with different degree\n",
    "# of freedom to assess the traning and testing\n",
    "#哦不过这种polynomial regression是用一个x变量 predict 另一个变量y  可能在这里不是特别适用吧。。。你可以考虑一下"
   ]
  },
  {
   "cell_type": "code",
   "execution_count": null,
   "metadata": {},
   "outputs": [],
   "source": [
    "#我们plan里写的financial state就不做太多了吧。 主要还是focus on overall score的计算方式吧。\n",
    "#Things zhennong plans to do:\n",
    "# -overall score的分布 （0-10，10-20，20-30，30-40...）\n",
    "# -overall score与每一项attribute之间的 correlation。\n",
    "# -在原来表格里 completedataset 里面添加一个column 命名为 best_position （现在有一列叫preferred position但里面assign了>1个position， notgood）"
   ]
  }
 ],
 "metadata": {
  "kernelspec": {
   "display_name": "Python 3",
   "language": "python",
   "name": "python3"
  },
  "language_info": {
   "codemirror_mode": {
    "name": "ipython",
    "version": 3
   },
   "file_extension": ".py",
   "mimetype": "text/x-python",
   "name": "python",
   "nbconvert_exporter": "python",
   "pygments_lexer": "ipython3",
   "version": "3.6.5"
  }
 },
 "nbformat": 4,
 "nbformat_minor": 2
}
